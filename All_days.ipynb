{
 "cells": [
  {
   "cell_type": "markdown",
   "metadata": {},
   "source": [
    "# Day 1"
   ]
  },
  {
   "cell_type": "code",
   "execution_count": 55,
   "metadata": {},
   "outputs": [
    {
     "name": "stdout",
     "output_type": "stream",
     "text": [
      "68787\n",
      "198041\n"
     ]
    }
   ],
   "source": [
    "with open(\"input.txt\") as f:\n",
    "    content = f.readlines()\n",
    "\n",
    "elves = [0]\n",
    "current_elf = 0\n",
    "for calories in content:\n",
    "    if calories.strip() == \"\":\n",
    "        current_elf += 1\n",
    "        elves.append(0)\n",
    "    else:\n",
    "        elves[current_elf] += int(calories.strip())\n",
    "\n",
    "print(max(elves))\n",
    "print(sum(sorted(elves)[-3:]))"
   ]
  },
  {
   "cell_type": "markdown",
   "metadata": {},
   "source": [
    "# Day 2"
   ]
  },
  {
   "cell_type": "code",
   "execution_count": 21,
   "metadata": {},
   "outputs": [
    {
     "name": "stdout",
     "output_type": "stream",
     "text": [
      "8890\n"
     ]
    }
   ],
   "source": [
    "with open(\"input2.txt\") as f:\n",
    "    content = f.readlines()\n",
    "    \n",
    "score = 0\n",
    "\n",
    "def win(player):\n",
    "    score = 0\n",
    "    if player == \"X\":\n",
    "        score += 1\n",
    "    elif player == \"Y\":\n",
    "        score += 2\n",
    "    else:\n",
    "        score += 3\n",
    "    score += 6\n",
    "    return score\n",
    "\n",
    "def loose(player):\n",
    "    score = 0\n",
    "    if player == \"X\":\n",
    "        score += 1\n",
    "    elif player == \"Y\":\n",
    "        score += 2\n",
    "    else:\n",
    "        score += 3\n",
    "    return score\n",
    "\n",
    "def draw(player):\n",
    "    score = 0\n",
    "    if player == \"X\":\n",
    "        score += 1\n",
    "    elif player == \"Y\":\n",
    "        score += 2\n",
    "    else:\n",
    "        score += 3\n",
    "    score += 3\n",
    "    return score\n",
    "\n",
    "for game in content:\n",
    "    if game[0]==\"A\":\n",
    "        if game[2]==\"X\":\n",
    "            score += draw(game[2])\n",
    "        elif game[2]==\"Y\":\n",
    "            score += win(game[2])\n",
    "        else:\n",
    "            score += loose(game[2])\n",
    "    elif game[0]==\"B\":\n",
    "        if game[2]==\"X\":\n",
    "            score += loose(game[2])\n",
    "        elif game[2]==\"Y\":\n",
    "            score += draw(game[2])\n",
    "        else:\n",
    "            score += win(game[2])\n",
    "    else:\n",
    "        if game[2]==\"X\":\n",
    "            score += win(game[2])\n",
    "        elif game[2]==\"Y\":\n",
    "            score += loose(game[2])\n",
    "        else:\n",
    "            score += draw(game[2])\n",
    "print(score)"
   ]
  },
  {
   "cell_type": "code",
   "execution_count": 19,
   "metadata": {},
   "outputs": [
    {
     "name": "stdout",
     "output_type": "stream",
     "text": [
      "10238\n"
     ]
    }
   ],
   "source": [
    "#Day 2 part 2\n",
    "with open(\"input2.txt\") as f:\n",
    "    content = f.readlines()\n",
    "    \n",
    "score = 0\n",
    "\n",
    "def mustwin(opponent):\n",
    "    counter = 0\n",
    "    if opponent==\"A\":\n",
    "        counter += 2\n",
    "    elif opponent==\"B\":\n",
    "        counter += 3\n",
    "    else:\n",
    "        counter += 1\n",
    "    counter += 6\n",
    "    return counter\n",
    "\n",
    "def mustdraw(opponent):\n",
    "    counter = 0\n",
    "    if opponent==\"A\":\n",
    "        counter += 1\n",
    "    elif opponent==\"B\":\n",
    "        counter += 2\n",
    "    else:\n",
    "        counter += 3\n",
    "    counter += 3\n",
    "    return counter\n",
    "  \n",
    "def mustloose(opponent):\n",
    "    counter = 0\n",
    "    if opponent==\"A\":\n",
    "        counter += 3\n",
    "    elif opponent==\"B\":\n",
    "        counter += 1\n",
    "    else:\n",
    "        counter += 2\n",
    "    return counter  \n",
    "  \n",
    "for game in content:\n",
    "    if game[2] == \"X\":\n",
    "        score += mustloose(game[0])\n",
    "    elif game[2] == \"Y\":\n",
    "        score += mustdraw(game[0])\n",
    "    else:\n",
    "        score += mustwin(game[0])\n",
    "\n",
    "print(score)    "
   ]
  },
  {
   "cell_type": "markdown",
   "metadata": {},
   "source": [
    "# Day 3"
   ]
  },
  {
   "cell_type": "code",
   "execution_count": 11,
   "metadata": {},
   "outputs": [
    {
     "name": "stdout",
     "output_type": "stream",
     "text": [
      "7878\n"
     ]
    }
   ],
   "source": [
    "with open(\"input3.txt\") as f:\n",
    "    content = [line.strip().split() for line in f.readlines()]\n",
    "\n",
    "def check_char(fh, sh):\n",
    "    char = ''.join(set(fh).intersection(sh))\n",
    "    return ord(char) - 96 if char.islower() else ord(char) - 38        \n",
    "            \n",
    "score = 0        \n",
    "for item in content:    \n",
    "    score += check_char(item[0][:int(len(item[0])/2)], item[0][int(len(item[0])/2):])\n",
    "\n",
    "print(score)"
   ]
  },
  {
   "cell_type": "code",
   "execution_count": 2,
   "metadata": {},
   "outputs": [
    {
     "name": "stdout",
     "output_type": "stream",
     "text": [
      "2760\n"
     ]
    }
   ],
   "source": [
    "def find_char(c1, c2, c3):\n",
    "    for char in c1:\n",
    "        if char in c2 and char in c3:\n",
    "            return ord(char) - 96 if char.islower() else ord(char) - 38\n",
    "            \n",
    "score = 0\n",
    "for i in range(0, len(content), 3):         \n",
    "    score += find_char(content[i][0], content[i+1][0], content[i+2][0])\n",
    "           \n",
    "print(score)"
   ]
  },
  {
   "cell_type": "markdown",
   "metadata": {},
   "source": [
    "# Day 4"
   ]
  },
  {
   "cell_type": "code",
   "execution_count": 6,
   "metadata": {},
   "outputs": [
    {
     "name": "stdout",
     "output_type": "stream",
     "text": [
      "['']\n"
     ]
    }
   ],
   "source": [
    "with open('input4.txt') as file:\n",
    "    contents = file.read().split('\\n')\n",
    "    \n",
    "print(contents)"
   ]
  },
  {
   "cell_type": "markdown",
   "metadata": {},
   "source": [
    "# Day 5"
   ]
  },
  {
   "cell_type": "code",
   "execution_count": 41,
   "metadata": {},
   "outputs": [
    {
     "name": "stdout",
     "output_type": "stream",
     "text": [
      "WSFTMRHPP\n"
     ]
    }
   ],
   "source": [
    "with open('input5.txt') as file:\n",
    "    contents = file.read().split('\\n')\n",
    "    \n",
    "inv_matrix = [['G','J','Z'],['C','V','F','W','P','R','L','Q'],\n",
    "              ['R','G','L','C','M','P','F'],['M','H','P','W','B','F','L'],\n",
    "              ['Q','V','S','F','C','G'],['L','T','Q','M','Z','J','H','W'],\n",
    "              ['V','B','S','F','H'],['S','Z','J','F'], \n",
    "              ['T','B','H','F','P','D','C','M']]\n",
    "reorders = contents[10:]\n",
    "\n",
    "for reorder in reorders:\n",
    "    commands = reorder.split(' ')\n",
    "    number_of_moves, from_col, to_col = int(commands[1]), int(commands[3]), int(commands[5])\n",
    "    \n",
    "    for i in range(0, number_of_moves):\n",
    "        inv_matrix[to_col-1].insert(0, inv_matrix[from_col-1][0])\n",
    "        del inv_matrix[from_col-1][0]\n",
    "        \n",
    "last_elements = ''.join([last[0] for last in inv_matrix])\n",
    "print(last_elements)\n",
    "    "
   ]
  },
  {
   "cell_type": "code",
   "execution_count": 40,
   "metadata": {},
   "outputs": [
    {
     "name": "stdout",
     "output_type": "stream",
     "text": [
      "GSLCMFBRP\n"
     ]
    }
   ],
   "source": [
    "inv_matrix = [['G','J','Z'],['C','V','F','W','P','R','L','Q'],\n",
    "              ['R','G','L','C','M','P','F'],['M','H','P','W','B','F','L'],\n",
    "              ['Q','V','S','F','C','G'],['L','T','Q','M','Z','J','H','W'],\n",
    "              ['V','B','S','F','H'],['S','Z','J','F'], \n",
    "              ['T','B','H','F','P','D','C','M']]\n",
    "\n",
    "for reorder in reorders:\n",
    "    commands = reorder.split(' ')\n",
    "    number_of_moves, from_col, to_col = int(commands[1]), int(commands[3]), int(commands[5])\n",
    "    to_transmit = inv_matrix[from_col-1][0:number_of_moves]\n",
    "    to_transmit.reverse()\n",
    "    \n",
    "    for i in range(0, number_of_moves):\n",
    "        del inv_matrix[from_col-1][0]\n",
    "    \n",
    "    for item in to_transmit:\n",
    "        inv_matrix[to_col-1].insert(0, item)\n",
    "        \n",
    "last_elements = ''.join([last[0] for last in inv_matrix])\n",
    "print(last_elements)"
   ]
  },
  {
   "cell_type": "markdown",
   "metadata": {},
   "source": [
    "# Day 6"
   ]
  },
  {
   "cell_type": "code",
   "execution_count": 6,
   "metadata": {},
   "outputs": [
    {
     "name": "stdout",
     "output_type": "stream",
     "text": [
      "1658\n",
      "2260\n"
     ]
    }
   ],
   "source": [
    "with open('input6.txt') as file:\n",
    "    contents = file.read()\n",
    "    \n",
    "def find_marker(seq):\n",
    "    for i in range(seq, len(contents)):\n",
    "        if len(set(contents[i-seq:i])) == seq:\n",
    "            print(i)\n",
    "            break\n",
    "    \n",
    "find_marker(4)\n",
    "find_marker(14)"
   ]
  },
  {
   "cell_type": "markdown",
   "metadata": {},
   "source": [
    "# Day 7"
   ]
  },
  {
   "cell_type": "code",
   "execution_count": 18,
   "metadata": {},
   "outputs": [
    {
     "name": "stdout",
     "output_type": "stream",
     "text": [
      "1243729 4443914\n"
     ]
    }
   ],
   "source": [
    "from collections import defaultdict\n",
    "from itertools import accumulate\n",
    "\n",
    "\n",
    "dirs = defaultdict(int)\n",
    "\n",
    "for line in open('input7.txt'):\n",
    "    match line.split():\n",
    "        case '$', 'cd', '/': curr = ['']\n",
    "        case '$', 'cd', '..': curr.pop()\n",
    "        case '$', 'cd', x: curr.append(x+'/')\n",
    "        case '$', 'ls': pass\n",
    "        case 'dir', _: pass\n",
    "        case size, _:\n",
    "            for p in accumulate(curr):\n",
    "                dirs[p] += int(size)\n",
    "\n",
    "print(sum(s for s in dirs.values() if s <= 100_000),\n",
    "      min(s for s in dirs.values() if s >= dirs[''] - 40_000_000))"
   ]
  },
  {
   "cell_type": "markdown",
   "metadata": {},
   "source": [
    "# Day 8"
   ]
  },
  {
   "cell_type": "code",
   "execution_count": null,
   "metadata": {},
   "outputs": [],
   "source": [
    "with open('input8.txt') as file:\n",
    "    contents = file.read().split('\\n')\n",
    "    \n",
    "    \n",
    "print(contents)"
   ]
  },
  {
   "cell_type": "markdown",
   "metadata": {},
   "source": [
    "# Day 9"
   ]
  },
  {
   "cell_type": "code",
   "execution_count": null,
   "metadata": {},
   "outputs": [],
   "source": [
    "with open('input9.txt') as file:\n",
    "    contents = file.read().split('\\n')\n",
    "    \n",
    "    \n",
    "print(contents)"
   ]
  },
  {
   "cell_type": "markdown",
   "metadata": {},
   "source": [
    "# Day 10"
   ]
  },
  {
   "cell_type": "code",
   "execution_count": null,
   "metadata": {},
   "outputs": [],
   "source": [
    "with open('input10.txt') as file:\n",
    "    contents = file.read().split('\\n')\n",
    "    \n",
    "    \n",
    "print(contents)"
   ]
  },
  {
   "cell_type": "markdown",
   "metadata": {},
   "source": [
    "# Day 11"
   ]
  },
  {
   "cell_type": "code",
   "execution_count": null,
   "metadata": {},
   "outputs": [],
   "source": [
    "with open('input11.txt') as file:\n",
    "    contents = file.read().split('\\n')\n",
    "    \n",
    "    \n",
    "print(contents)"
   ]
  },
  {
   "cell_type": "markdown",
   "metadata": {},
   "source": [
    "# Day 12"
   ]
  },
  {
   "cell_type": "code",
   "execution_count": null,
   "metadata": {},
   "outputs": [],
   "source": [
    "with open('input12.txt') as file:\n",
    "    contents = file.read().split('\\n')\n",
    "    \n",
    "    \n",
    "print(contents)"
   ]
  },
  {
   "cell_type": "markdown",
   "metadata": {},
   "source": [
    "# Day 13"
   ]
  },
  {
   "cell_type": "code",
   "execution_count": null,
   "metadata": {},
   "outputs": [],
   "source": [
    "with open('input13.txt') as file:\n",
    "    contents = file.read().split('\\n')\n",
    "    \n",
    "    \n",
    "print(contents)"
   ]
  },
  {
   "cell_type": "markdown",
   "metadata": {},
   "source": [
    "# Day 14"
   ]
  },
  {
   "cell_type": "code",
   "execution_count": null,
   "metadata": {},
   "outputs": [],
   "source": [
    "with open('input14.txt') as file:\n",
    "    contents = file.read().split('\\n')\n",
    "    \n",
    "    \n",
    "print(contents)"
   ]
  }
 ],
 "metadata": {
  "interpreter": {
   "hash": "88b8f425751f62ec7b8df47ba04b64d448b9bb15c1b711422e4ebe5dc746ac52"
  },
  "kernelspec": {
   "display_name": "Python 3.10.4 ('venv': venv)",
   "language": "python",
   "name": "python3"
  },
  "language_info": {
   "codemirror_mode": {
    "name": "ipython",
    "version": 3
   },
   "file_extension": ".py",
   "mimetype": "text/x-python",
   "name": "python",
   "nbconvert_exporter": "python",
   "pygments_lexer": "ipython3",
   "version": "3.10.4"
  },
  "orig_nbformat": 4
 },
 "nbformat": 4,
 "nbformat_minor": 2
}
