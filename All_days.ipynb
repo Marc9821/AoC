{
 "cells": [
  {
   "cell_type": "markdown",
   "metadata": {},
   "source": [
    "# Day 1"
   ]
  },
  {
   "cell_type": "code",
   "execution_count": 55,
   "metadata": {},
   "outputs": [
    {
     "name": "stdout",
     "output_type": "stream",
     "text": [
      "68787\n",
      "198041\n"
     ]
    }
   ],
   "source": [
    "with open(\"input.txt\") as f:\n",
    "    content = f.readlines()\n",
    "\n",
    "elves = [0]\n",
    "current_elf = 0\n",
    "for calories in content:\n",
    "    if calories.strip() == \"\":\n",
    "        current_elf += 1\n",
    "        elves.append(0)\n",
    "    else:\n",
    "        elves[current_elf] += int(calories.strip())\n",
    "\n",
    "print(max(elves))\n",
    "print(sum(sorted(elves)[-3:]))"
   ]
  },
  {
   "cell_type": "markdown",
   "metadata": {},
   "source": [
    "# Day 2"
   ]
  },
  {
   "cell_type": "code",
   "execution_count": 21,
   "metadata": {},
   "outputs": [
    {
     "name": "stdout",
     "output_type": "stream",
     "text": [
      "8890\n"
     ]
    }
   ],
   "source": [
    "with open(\"input2.txt\") as f:\n",
    "    content = f.readlines()\n",
    "    \n",
    "score = 0\n",
    "\n",
    "def win(player):\n",
    "    score = 0\n",
    "    if player == \"X\":\n",
    "        score += 1\n",
    "    elif player == \"Y\":\n",
    "        score += 2\n",
    "    else:\n",
    "        score += 3\n",
    "    score += 6\n",
    "    return score\n",
    "\n",
    "def loose(player):\n",
    "    score = 0\n",
    "    if player == \"X\":\n",
    "        score += 1\n",
    "    elif player == \"Y\":\n",
    "        score += 2\n",
    "    else:\n",
    "        score += 3\n",
    "    return score\n",
    "\n",
    "def draw(player):\n",
    "    score = 0\n",
    "    if player == \"X\":\n",
    "        score += 1\n",
    "    elif player == \"Y\":\n",
    "        score += 2\n",
    "    else:\n",
    "        score += 3\n",
    "    score += 3\n",
    "    return score\n",
    "\n",
    "for game in content:\n",
    "    if game[0]==\"A\":\n",
    "        if game[2]==\"X\":\n",
    "            score += draw(game[2])\n",
    "        elif game[2]==\"Y\":\n",
    "            score += win(game[2])\n",
    "        else:\n",
    "            score += loose(game[2])\n",
    "    elif game[0]==\"B\":\n",
    "        if game[2]==\"X\":\n",
    "            score += loose(game[2])\n",
    "        elif game[2]==\"Y\":\n",
    "            score += draw(game[2])\n",
    "        else:\n",
    "            score += win(game[2])\n",
    "    else:\n",
    "        if game[2]==\"X\":\n",
    "            score += win(game[2])\n",
    "        elif game[2]==\"Y\":\n",
    "            score += loose(game[2])\n",
    "        else:\n",
    "            score += draw(game[2])\n",
    "print(score)"
   ]
  },
  {
   "cell_type": "code",
   "execution_count": 19,
   "metadata": {},
   "outputs": [
    {
     "name": "stdout",
     "output_type": "stream",
     "text": [
      "10238\n"
     ]
    }
   ],
   "source": [
    "#Day 2 part 2\n",
    "with open(\"input2.txt\") as f:\n",
    "    content = f.readlines()\n",
    "    \n",
    "score = 0\n",
    "\n",
    "def mustwin(opponent):\n",
    "    counter = 0\n",
    "    if opponent==\"A\":\n",
    "        counter += 2\n",
    "    elif opponent==\"B\":\n",
    "        counter += 3\n",
    "    else:\n",
    "        counter += 1\n",
    "    counter += 6\n",
    "    return counter\n",
    "\n",
    "def mustdraw(opponent):\n",
    "    counter = 0\n",
    "    if opponent==\"A\":\n",
    "        counter += 1\n",
    "    elif opponent==\"B\":\n",
    "        counter += 2\n",
    "    else:\n",
    "        counter += 3\n",
    "    counter += 3\n",
    "    return counter\n",
    "  \n",
    "def mustloose(opponent):\n",
    "    counter = 0\n",
    "    if opponent==\"A\":\n",
    "        counter += 3\n",
    "    elif opponent==\"B\":\n",
    "        counter += 1\n",
    "    else:\n",
    "        counter += 2\n",
    "    return counter  \n",
    "  \n",
    "for game in content:\n",
    "    if game[2] == \"X\":\n",
    "        score += mustloose(game[0])\n",
    "    elif game[2] == \"Y\":\n",
    "        score += mustdraw(game[0])\n",
    "    else:\n",
    "        score += mustwin(game[0])\n",
    "\n",
    "print(score)    "
   ]
  },
  {
   "cell_type": "markdown",
   "metadata": {},
   "source": [
    "# Day 3"
   ]
  },
  {
   "cell_type": "code",
   "execution_count": 11,
   "metadata": {},
   "outputs": [
    {
     "name": "stdout",
     "output_type": "stream",
     "text": [
      "7878\n"
     ]
    }
   ],
   "source": [
    "with open(\"input3.txt\") as f:\n",
    "    content = [line.strip().split() for line in f.readlines()]\n",
    "\n",
    "def check_char(fh, sh):\n",
    "    char = ''.join(set(fh).intersection(sh))\n",
    "    return ord(char) - 96 if char.islower() else ord(char) - 38        \n",
    "            \n",
    "score = 0        \n",
    "for item in content:    \n",
    "    score += check_char(item[0][:int(len(item[0])/2)], item[0][int(len(item[0])/2):])\n",
    "\n",
    "print(score)"
   ]
  },
  {
   "cell_type": "code",
   "execution_count": 2,
   "metadata": {},
   "outputs": [
    {
     "name": "stdout",
     "output_type": "stream",
     "text": [
      "2760\n"
     ]
    }
   ],
   "source": [
    "def find_char(c1, c2, c3):\n",
    "    for char in c1:\n",
    "        if char in c2 and char in c3:\n",
    "            return ord(char) - 96 if char.islower() else ord(char) - 38\n",
    "            \n",
    "score = 0\n",
    "for i in range(0, len(content), 3):         \n",
    "    score += find_char(content[i][0], content[i+1][0], content[i+2][0])\n",
    "           \n",
    "print(score)"
   ]
  },
  {
   "cell_type": "markdown",
   "metadata": {},
   "source": [
    "# Day 4"
   ]
  },
  {
   "cell_type": "code",
   "execution_count": 6,
   "metadata": {},
   "outputs": [
    {
     "name": "stdout",
     "output_type": "stream",
     "text": [
      "['']\n"
     ]
    }
   ],
   "source": [
    "with open('input4.txt') as file:\n",
    "    contents = file.read().split('\\n')\n",
    "    \n",
    "print(contents)"
   ]
  },
  {
   "cell_type": "markdown",
   "metadata": {},
   "source": [
    "# Day 5"
   ]
  },
  {
   "cell_type": "code",
   "execution_count": 41,
   "metadata": {},
   "outputs": [
    {
     "name": "stdout",
     "output_type": "stream",
     "text": [
      "WSFTMRHPP\n"
     ]
    }
   ],
   "source": [
    "with open('input5.txt') as file:\n",
    "    contents = file.read().split('\\n')\n",
    "    \n",
    "inv_matrix = [['G','J','Z'],['C','V','F','W','P','R','L','Q'],\n",
    "              ['R','G','L','C','M','P','F'],['M','H','P','W','B','F','L'],\n",
    "              ['Q','V','S','F','C','G'],['L','T','Q','M','Z','J','H','W'],\n",
    "              ['V','B','S','F','H'],['S','Z','J','F'], \n",
    "              ['T','B','H','F','P','D','C','M']]\n",
    "reorders = contents[10:]\n",
    "\n",
    "for reorder in reorders:\n",
    "    commands = reorder.split(' ')\n",
    "    number_of_moves, from_col, to_col = int(commands[1]), int(commands[3]), int(commands[5])\n",
    "    \n",
    "    for i in range(0, number_of_moves):\n",
    "        inv_matrix[to_col-1].insert(0, inv_matrix[from_col-1][0])\n",
    "        del inv_matrix[from_col-1][0]\n",
    "        \n",
    "last_elements = ''.join([last[0] for last in inv_matrix])\n",
    "print(last_elements)\n",
    "    "
   ]
  },
  {
   "cell_type": "code",
   "execution_count": 40,
   "metadata": {},
   "outputs": [
    {
     "name": "stdout",
     "output_type": "stream",
     "text": [
      "GSLCMFBRP\n"
     ]
    }
   ],
   "source": [
    "inv_matrix = [['G','J','Z'],['C','V','F','W','P','R','L','Q'],\n",
    "              ['R','G','L','C','M','P','F'],['M','H','P','W','B','F','L'],\n",
    "              ['Q','V','S','F','C','G'],['L','T','Q','M','Z','J','H','W'],\n",
    "              ['V','B','S','F','H'],['S','Z','J','F'], \n",
    "              ['T','B','H','F','P','D','C','M']]\n",
    "\n",
    "for reorder in reorders:\n",
    "    commands = reorder.split(' ')\n",
    "    number_of_moves, from_col, to_col = int(commands[1]), int(commands[3]), int(commands[5])\n",
    "    to_transmit = inv_matrix[from_col-1][0:number_of_moves]\n",
    "    to_transmit.reverse()\n",
    "    \n",
    "    for i in range(0, number_of_moves):\n",
    "        del inv_matrix[from_col-1][0]\n",
    "    \n",
    "    for item in to_transmit:\n",
    "        inv_matrix[to_col-1].insert(0, item)\n",
    "        \n",
    "last_elements = ''.join([last[0] for last in inv_matrix])\n",
    "print(last_elements)"
   ]
  },
  {
   "cell_type": "markdown",
   "metadata": {},
   "source": [
    "# Day 6"
   ]
  },
  {
   "cell_type": "code",
   "execution_count": 6,
   "metadata": {},
   "outputs": [
    {
     "name": "stdout",
     "output_type": "stream",
     "text": [
      "1658\n",
      "2260\n"
     ]
    }
   ],
   "source": [
    "with open('input6.txt') as file:\n",
    "    contents = file.read()\n",
    "    \n",
    "def find_marker(seq):\n",
    "    for i in range(seq, len(contents)):\n",
    "        if len(set(contents[i-seq:i])) == seq:\n",
    "            print(i)\n",
    "            break\n",
    "    \n",
    "find_marker(4)\n",
    "find_marker(14)"
   ]
  },
  {
   "cell_type": "markdown",
   "metadata": {},
   "source": [
    "# Day 7"
   ]
  },
  {
   "cell_type": "code",
   "execution_count": 14,
   "metadata": {},
   "outputs": [
    {
     "name": "stdout",
     "output_type": "stream",
     "text": [
      "{'size': 44376732, 'lhrfs': {'..': {...}, 'size': 240152, 'hzl.jdj': 197903, 'wsbpzmbq.hws': 42249}, 'mvsjmrtn': 193233, 'nwh': {'..': {...}, 'size': 834387, 'bgrccm.tqh': 63077, 'dznccwl.bnw': 69961, 'pmdj': {'..': {...}, 'size': 514336, 'rlgfd.rrd': 292527, 'tbj.grn': 68737, 'wsbpzmbq.hws': 153072}, 'rsbvj.jtd': 187013}, 'pjsd': {'..': {...}, 'size': 22040913, 'czzcslm': {'..': {...}, 'size': 266197, 'bvrnzhd.vzp': 249237, 'ssvqllt.ccv': 16960}, 'dgwpl': {'..': {...}, 'size': 492311, 'brsbfqbm.hls': 23547, 'ljzrwpv': {'..': {...}, 'size': 468764, 'btnzjtlr': {'..': {...}, 'size': 191998, 'tbj.mwg': 191998}, 'czr': {'..': {...}, 'size': 276766, 'fqg': {'..': {...}, 'size': 276766, 'llhzr.pjh': 276766}}}}, 'fqg': {'..': {...}, 'size': 8011133, 'bhcg': 275942, 'fqg': {'..': {...}, 'size': 2202734, 'bpbtnq': {'..': {...}, 'size': 194542, 'mtztnd.hdb': 194542}, 'btnzjtlr.mgr': 267620, 'fqg.vpw': 174395, 'tfbfgzw': {'..': {...}, 'size': 1431303, 'cgdlflbt': {'..': {...}, 'size': 176005, 'wsbpzmbq.hws': 176005}, 'fqg.cqp': 10814, 'fztb.jzr': 40235, 'hzl': {'..': {...}, 'size': 1204249, 'ccpdp': {'..': {...}, 'size': 172836, 'btnzjtlr': 172836}, 'hgwpjvn': {'..': {...}, 'size': 384195, 'hnsrdnl.ctv': 122725, 'tmgpjbj': 261470}, 'hzl': {'..': {...}, 'size': 59843, 'lffmd.fwr': 59843}, 'pbn.rzl': 203730, 'tbj': 88179, 'zdbmfmzs.jjh': 295466}}, 'twhvbbr': {'..': {...}, 'size': 134874, 'hnsrdnl.ctv': 134874}}, 'gghdbzz': {'..': {...}, 'size': 233336, 'fqg': {'..': {...}, 'size': 233336, 'ssvqllt.ccv': 233336}}, 'hswgvpt': {'..': {...}, 'size': 2197079, 'fwfhnbc': {'..': {...}, 'size': 293848, 'zhz.mff': 293848}, 'hcp': {'..': {...}, 'size': 288118, 'gdndr.gwn': 288118}, 'hnsrdnl.ctv': 221595, 'hzl': 230875, 'jbfnlc.qqn': 257695, 'tbj.qlc': 126050, 'wdlh': {'..': {...}, 'size': 778898, 'btnzjtlr.msq': 227328, 'hzl': {'..': {...}, 'size': 184779, 'ssvqllt.ccv': 184779}, 'hzl.wjp': 94325, 'zzdfcs': 272466}}, 'hzl': 75273, 'lfpblmwt': {'..': {...}, 'size': 151071, 'ssvqllt.ccv': 151071}, 'sdcwn': {'..': {...}, 'size': 2216158, 'hzl.mvp': 61632, 'tbj': {'..': {...}, 'size': 772450, 'btnzjtlr': {'..': {...}, 'size': 2441, 'hnsrdnl.ctv': 2441}, 'cwsv': {'..': {...}, 'size': 475046, 'gwr': 238930, 'tlzqtch': 236116}, 'tbj': 1318, 'wnv': 293645}, 'tdwc': {'..': {...}, 'size': 906007, 'btnzjtlr': {'..': {...}, 'size': 177427, 'tbj.hgf': 177427}, 'fqg': {'..': {...}, 'size': 241003, 'dbnwzbn.flv': 241003}, 'zgjpfj': {'..': {...}, 'size': 487577, 'fqg': 249565, 'tbj.csq': 238012}}, 'tnjcf': {'..': {...}, 'size': 223888, 'lljwfglp.wnb': 188504, 'wsbpzmbq.hws': 35384}, 'tstqdt': {'..': {...}, 'size': 252181, 'lszhdjr': {'..': {...}, 'size': 252181, 'ssvqllt.ccv': 252181}}}, 'wmrwd': {'..': {...}, 'size': 659540, 'btnzjtlr': 117914, 'hnsrdnl.ctv': 224916, 'lszhdjr': {'..': {...}, 'size': 183834, 'sdnlhh.ntt': 183834}, 'trjm.mrw': 112511, 'trn': 20365}}, 'lszhdjr': {'..': {...}, 'size': 1216703, 'gjlms': {'..': {...}, 'size': 978639, 'bbs.fhq': 301712, 'btnzjtlr': {'..': {...}, 'size': 60204, 'nhmc': 60204}, 'cnvlrpbs.tqv': 148329, 'hzl': {'..': {...}, 'size': 99518, 'lszhdjr.stz': 99518}, 'hzl.zps': 107466, 'jgflpb': {'..': {...}, 'size': 251545, 'hzl.ncm': 251545}, 'trjm.mrw': 9865}, 'hrwjmrwf': {'..': {...}, 'size': 218604, 'btnzjtlr.qgg': 65264, 'pqsn': 123207, 'zzdfcs': 30133}, 'vblznslv': {'..': {...}, 'size': 19460, 'hzl': 19460}}, 'mmpf': {'..': {...}, 'size': 310096, 'dnsq': 200340, 'snl': 109756}, 'wtwhzzwz': {'..': {...}, 'size': 11594725, 'bpwjhpgr': {'..': {...}, 'size': 1514, 'mjczjz': 1514}, 'btnzjtlr': {'..': {...}, 'size': 209165, 'lszhdjr': 209165}, 'dgqljsbq': {'..': {...}, 'size': 5726044, 'btnzjtlr': 160750, 'fqg': {'..': {...}, 'size': 464891, 'ghsdjhj': {'..': {...}, 'size': 464891, 'jqcjngn.fmf': 166720, 'zzdfcs': 298171}}, 'hrncl': {'..': {...}, 'size': 1366961, 'hzl': {'..': {...}, 'size': 242221, 'drndgmgz.flz': 344, 'zzdfcs': 241877}, 'trjm.mrw': 82355, 'vrqbf': {'..': {...}, 'size': 762532, 'blf': {'..': {...}, 'size': 68629, 'wdhfbtj.ncc': 68629}, 'pzrfw': {'..': {...}, 'size': 520523, 'hzl': {'..': {...}, 'size': 12677, 'gvdh.ltp': 12677}, 'mdh': {'..': {...}, 'size': 222003, 'qbvfdv': 222003}, 'tbj': {'..': {...}, 'size': 285843, 'wtmcqwgp': {'..': {...}, 'size': 285843, 'stcgrs': {'..': {...}, 'size': 285843, 'tbj': 285843}}}}, 'tbj': {'..': {...}, 'size': 173380, 'mcgzmthd.mdg': 173380}}, 'wsbpzmbq.hws': 261260, 'wtmlmprg.whh': 18593}, 'hzvr.ftp': 5964, 'jldnlddj': {'..': {...}, 'size': 2825575, 'brdtwc.pws': 57836, 'fqg': {'..': {...}, 'size': 273621, 'pwjr.gwt': 273621}, 'hzl': {'..': {...}, 'size': 1386475, 'fqg': {'..': {...}, 'size': 533715, 'hcf.sqw': 290882, 'hlntl.zqg': 62759, 'ntgm.wjn': 115593, 'qwtv': 64481}, 'tbj': {'..': {...}, 'size': 852760, 'gsvpcdm': 199421, 'hnsrdnl.ctv': 200467, 'lgqgdvwz.zdp': 9980, 'lqlml': {'..': {...}, 'size': 371701, 'fdwgg.rdp': 92416, 'zzdfcs': 279285}, 'pgn': 19593, 'tqqbwd': 51598}}, 'lbn': 140902, 'qhrcm': {'..': {...}, 'size': 558045, 'trjm.mrw': 278543, 'zzdfcs': 279502}, 'ssrc': {'..': {...}, 'size': 238789, 'zfvwwnhl': 238789}, 'wsbpzmbq.hws': 169907}, 'qdc.grf': 267082, 'sjpdjt.ngt': 205213, 'vws': {'..': {...}, 'size': 254394, 'bgfrh': 249170, 'ndtnt': {'..': {...}, 'size': 5224, 'qwdnzdq.rfz': 5224}}, 'wzwwqq.stp': 175214}, 'fqg': {'..': {...}, 'size': 171994, 'trjm.mrw': 171994}, 'mbbtzgmf': {'..': {...}, 'size': 313256, 'cfqzlgm': {'..': {...}, 'size': 232962, 'tlbgq': {'..': {...}, 'size': 232962, 'ssvqllt.ccv': 232962}}, 'ssvqllt.ccv': 57211, 'tbj': {'..': {...}, 'size': 23083, 'lszhdjr.lzt': 23083}}, 'vvmzhhtv': {'..': {...}, 'size': 150567, 'fcpv.vws': 150567}, 'wglhbp': {'..': {...}, 'size': 4443914, 'cjm': {'..': {...}, 'size': 300643, 'jhtjsn.hzm': 300643}, 'gjhzw': {'..': {...}, 'size': 508231, 'hwlj': {'..': {...}, 'size': 280279, 'ssvqllt.ccv': 280279}, 'tbj': {'..': {...}, 'size': 227952, 'ssvqllt.ccv': 88746, 'tbj': 139206}}, 'lmzzlp': {'..': {...}, 'size': 808429, 'btnzjtlr': 9261, 'fqg': {'..': {...}, 'size': 208781, 'dcglqd.zrj': 35303, 'mvzh': 71812, 'ssvqllt.ccv': 32361, 'zzdfcs': 69305}, 'fqg.fsf': 128118, 'hnsrdnl.ctv': 165323, 'prvmm': {'..': {...}, 'size': 296946, 'zzdfcs': 296946}}, 'lszhdjr.hcj': 123986, 'lwbz': 275863, 'snnhqgp.tdj': 121332, 'stngv': {'..': {...}, 'size': 892241, 'hgj': {'..': {...}, 'size': 713324, 'dhwr.mvc': 289819, 'dvpvhhgj.fmw': 85418, 'fqg.frj': 108543, 'pwhwmctv': 229544}, 'vlb.ztz': 46259, 'zstwl.wgs': 25946, 'zzdfcs': 106712}, 'wdzvcfm': {'..': {...}, 'size': 84638, 'sdphr': {'..': {...}, 'size': 84638, 'hnsrdnl.ctv': 84638}}, 'wjqztbj': {'..': {...}, 'size': 873866, 'btnzjtlr.ldw': 240174, 'lszhdjr': 125567, 'lszhdjr.mmz': 265718, 'wzjcc': 242407}, 'wzhsq': {'..': {...}, 'size': 454685, 'hzl': {'..': {...}, 'size': 309519, 'plnn.pdn': 309519}, 'hzl.cpv': 22176, 'ldtwhvc.vcv': 122990}}, 'zcwmf': {'..': {...}, 'size': 578271, 'hwq': {'..': {...}, 'size': 309763, 'trjm.mrw': 189618, 'wsbpzmbq.hws': 120145}, 'mztd': 268508}}, 'zzdfcs': 149748}, 'qfrrtb': {'..': {...}, 'size': 21036060, 'dmntr': {'..': {...}, 'size': 1148162, 'btnzjtlr': {'..': {...}, 'size': 244067, 'jnbthqwp': 153689, 'tcp': {'..': {...}, 'size': 90378, 'mczzfwsz.hwf': 90378}}, 'fqg.wcw': 141598, 'hnsrdnl.ctv': 223036, 'qhwmj': 96925, 'ssvqllt.ccv': 257697, 'vmbfhldv.zgm': 184839}, 'fqg': {'..': {...}, 'size': 2929916, 'btq': {'..': {...}, 'size': 2493513, 'bdnc': {'..': {...}, 'size': 263358, 'trjm.mrw': 263358}, 'ttpj': {'..': {...}, 'size': 1764775, 'fqg.dvq': 185501, 'ltmmsr.lqd': 151107, 'mbtqmqh': {'..': {...}, 'size': 1104843, 'lszhdjr': {'..': {...}, 'size': 173189, 'dmc': {'..': {...}, 'size': 173189, 'mzmr.nrj': 173189}}, 'pmwswf.lrm': 184660, 'tbj': {'..': {...}, 'size': 59531, 'fjqfbq': 59531}, 'zqbss': {'..': {...}, 'size': 425421, 'btnzjtlr': {'..': {...}, 'size': 113619, 'trjm.mrw': 113619}, 'lszhdjr': {'..': {...}, 'size': 297437, 'hnsrdnl.ctv': 87142, 'lszhdjr': {'..': {...}, 'size': 210295, 'jsdrvbhc': {'..': {...}, 'size': 210295, 'hzl': 210295}}}, 'sqdj': 14365}, 'zzdfcs': 262042}, 'sdzp.qhb': 231236, 'vfflgw.vrr': 16601, 'zbvllh.gqb': 75487}, 'vftshfd': {'..': {...}, 'size': 465380, 'jjws': {'..': {...}, 'size': 82848, 'trjm.mrw': 82848}, 'mvdcjgp': {'..': {...}, 'size': 231865, 'lzzl': 231865}, 'qflcrlrm': {'..': {...}, 'size': 150667, 'btnzjtlr': 150667}}}, 'fqg': 51590, 'gnqsnpj.vsh': 176455, 'mthwtst': {'..': {...}, 'size': 26308, 'lszhdjr.dbb': 26308}, 'trhz': {'..': {...}, 'size': 16138, 'swtdz.hdt': 16138}, 'zbpjvb': {'..': {...}, 'size': 165912, 'hnsrdnl.ctv': 69598, 'tbj.gpj': 96314}}, 'gpcvsbpl': {'..': {...}, 'size': 1315666, 'dbssfzqt': {'..': {...}, 'size': 224791, 'jcv': 156599, 'zzdfcs': 68192}, 'pgn': {'..': {...}, 'size': 782079, 'fqg': 124613, 'gmnqvlbb.nnf': 139219, 'hnsrdnl.ctv': 177527, 'hzl.qwm': 116238, 'tbj': {'..': {...}, 'size': 154906, 'hnsrdnl.ctv': 78863, 'lszhdjr': {'..': {...}, 'size': 76043, 'qjwjw.dbn': 76043}}, 'zzdfcs': 69576}, 'zfgvldv': {'..': {...}, 'size': 308796, 'tbj': {'..': {...}, 'size': 308796, 'gqcw.fsm': 308796}}}, 'hzl': {'..': {...}, 'size': 1548627, 'btnzjtlr': 50784, 'gjbcgphh.rbw': 19755, 'lncnj.bct': 169847, 'mbrtgl': 46359, 'nlnt': {'..': {...}, 'size': 992187, 'cqfzqwr': {'..': {...}, 'size': 213009, 'trjm.mrw': 213009}, 'dghdql': {'..': {...}, 'size': 61202, 'hnsrdnl.ctv': 61202}, 'fnd': {'..': {...}, 'size': 237330, 'hnsrdnl.ctv': 237330}, 'hnsrdnl.ctv': 159573, 'lszhdjr': {'..': {...}, 'size': 222813, 'ssvqllt.ccv': 222813}, 'tsm': 16814, 'wsbpzmbq.hws': 59202, 'zlbj': 22244}, 'wfg.cdn': 269695}, 'mqbhs': {'..': {...}, 'size': 135359, 'fqg': {'..': {...}, 'size': 135359, 'lcwsbvw.jlj': 121590, 'zzdfcs': 13769}}, 'pgvngj': {'..': {...}, 'size': 414382, 'lnfsw.mvd': 29079, 'tbj': {'..': {...}, 'size': 385303, 'ssvqllt.ccv': 303514, 'wsbpzmbq.hws': 81789}}, 'pnrdwlqn': {'..': {...}, 'size': 9650158, 'btnzjtlr.hdq': 145498, 'fqg': 209811, 'gscsq': {'..': {...}, 'size': 1829520, 'btnzjtlr': {'..': {...}, 'size': 921864, 'fqg.bcq': 52870, 'hnsrdnl.ctv': 131279, 'hts': {'..': {...}, 'size': 295829, 'hnsrdnl.ctv': 295829}, 'plgqz.lfz': 180154, 'ssvqllt.ccv': 118677, 'zzdfcs': 143055}, 'cmflqncq.csp': 257666, 'lszhdjr.jvl': 146453, 'ssvqllt.ccv': 21252, 'vjpgs': {'..': {...}, 'size': 452658, 'fqg.rjw': 247444, 'hzl': {'..': {...}, 'size': 91966, 'ppff.qhn': 91966}, 'tbj': 113248}, 'zjgswm.zmw': 29627}, 'jbln.grc': 39287, 'lszhdjr': {'..': {...}, 'size': 815682, 'grzs.btl': 290399, 'gswg': 11125, 'mhdfszz.pdh': 110268, 'mwbjshb': {'..': {...}, 'size': 119607, 'rpgml': 119607}, 'ndtllttm': {'..': {...}, 'size': 5107, 'qsqqfpc.mzf': 5107}, 'wsbpzmbq.hws': 126485, 'zzdfcs': 152691}, 'zcj': {'..': {...}, 'size': 6610360, 'gftzs': {'..': {...}, 'size': 115531, 'fbjj.vrn': 115531}, 'ssvqllt.ccv': 131397, 'vpqvpmv': {'..': {...}, 'size': 5963271, 'bfqpwgdc': {'..': {...}, 'size': 1718455, 'fqg.djq': 144904, 'gbn': {'..': {...}, 'size': 1051516, 'btnzjtlr': {'..': {...}, 'size': 1051516, 'dzsbcqjd': {'..': {...}, 'size': 13953, 'tbj': 13953}, 'fqg.fcw': 253792, 'fqtqsdrt.pqd': 209245, 'nqvqm': 303280, 'vchvvq.cft': 271246}}, 'jzz': {'..': {...}, 'size': 234810, 'ssvqllt.ccv': 234810}, 'vtp': {'..': {...}, 'size': 287225, 'rzqfq.pvj': 287225}}, 'ffbllv': 67619, 'tzr': {'..': {...}, 'size': 4177197, 'bbzlnjtc.fft': 135596, 'bqfz': {'..': {...}, 'size': 661435, 'fqg': 137988, 'lszhdjr.bwc': 122217, 'ssvqllt.ccv': 232293, 'twrtmwh.ddc': 168937}, 'dztgr': {'..': {...}, 'size': 23653, 'qhrp.ljh': 23653}, 'hnsrdnl.ctv': 306047, 'jzdzf': 248180, 'lszhdjr': {'..': {...}, 'size': 1821401, 'ghqlj': {'..': {...}, 'size': 1058282, 'ghshmzt.srl': 184316, 'nbqndwj': 258282, 'ndd': {'..': {...}, 'size': 230780, 'gvclc': 152924, 'llztchwp.jjd': 77856}, 'tqqlnw': {'..': {...}, 'size': 223468, 'flvdsc.zsv': 4090, 'vgwfn.zjh': 219378}, 'trjm.mrw': 68843, 'wllcqzfr.mbd': 92593}, 'qjjvfv': {'..': {...}, 'size': 230606, 'trjm.mrw': 230606}, 'qsjrnq': {'..': {...}, 'size': 532513, 'fnnbmt.dtm': 252853, 'lszhdjr.rjc': 279660}}, 'mds': {'..': {...}, 'size': 10903, 'jzwjv': 10903}, 'nmdc': {'..': {...}, 'size': 114234, 'hnsrdnl.ctv': 114234}, 'qpmt': {'..': {...}, 'size': 537396, 'bvrzgp': 171542, 'hnsrdnl.ctv': 129238, 'tbj': 137570, 'vtcfq.npn': 54929, 'zzdfcs': 44117}, 'wsbpzmbq.hws': 126445, 'zzdfcs': 191907}}, 'wdqw': {'..': {...}, 'size': 365621, 'jmvsdlv': {'..': {...}, 'size': 224693, 'flnnqz': {'..': {...}, 'size': 224693, 'flqpwqp.fwn': 224693}}, 'mjgpdcbl': {'..': {...}, 'size': 140928, 'btnzjtlr.prd': 140928}}, 'wsbpzmbq.hws': 34540}}, 'qlnwhq': {'..': {...}, 'size': 3893790, 'btnzjtlr': {'..': {...}, 'size': 493921, 'ssrcp.chb': 225671, 'tbj.cfd': 268250}, 'cbhr': {'..': {...}, 'size': 68468, 'qdqlml.qrj': 68468}, 'cnbssw': {'..': {...}, 'size': 1000466, 'tbj': {'..': {...}, 'size': 812545, 'hzl': 307230, 'jbcnnvq': {'..': {...}, 'size': 277047, 'nztsr': 277047}, 'lssvr.gfn': 228268}, 'zscs': 187921}, 'dwvv': {'..': {...}, 'size': 1678371, 'btnzjtlr': 267743, 'fqg': {'..': {...}, 'size': 863106, 'btnzjtlr.hjn': 260003, 'btnzjtlr.ndh': 103775, 'trjm.mrw': 200945, 'twpplmhh': {'..': {...}, 'size': 298383, 'tvrq': {'..': {...}, 'size': 298383, 'ssvqllt.ccv': 298383}}}, 'qznpsjp': 68364, 'wdr': {'..': {...}, 'size': 248357, 'tbj': 248357}, 'wsbpzmbq.hws': 230595, 'wtwwd.jnb': 206}, 'lszhdjr': {'..': {...}, 'size': 259605, 'lszhdjr.mvw': 259605}, 'rnhnbs': {'..': {...}, 'size': 297597, 'hnsrdnl.ctv': 297597}, 'sdhqp': {'..': {...}, 'size': 95362, 'wsbpzmbq.hws': 95362}}}, 'zzdfcs': 31987}\n",
      "Pt1: 1243729\n",
      "available=25623268 to_free=4376732\n",
      "Pt2: 4443914\n"
     ]
    }
   ],
   "source": [
    "def main():\n",
    "    with open('input7.txt') as file:\n",
    "        contents = file.read().strip()\n",
    "    commands = contents.split(\"\\n$ \")\n",
    "    directories = {\"size\": 0}\n",
    "    current = directories\n",
    "    for command in commands[1:]:\n",
    "        if \"\\n\" in command:\n",
    "            cmd = command[:command.index(\"\\n\")]\n",
    "            output = command[command.index(\"\\n\")+1:].split(\"\\n\")\n",
    "        else:\n",
    "            cmd = command\n",
    "            output = None\n",
    "\n",
    "        if cmd == \"ls\":\n",
    "            for line in output:\n",
    "                data = line.split()\n",
    "                if data[0] == \"dir\":\n",
    "                    current[data[1]] = {\n",
    "                        \"..\": current,\n",
    "                        \"size\": 0,\n",
    "                    }\n",
    "                else:\n",
    "                    current[data[1]] = int(data[0])\n",
    "                    current[\"size\"] += int(data[0])\n",
    "                    update_size = current\n",
    "                    while \"..\" in update_size:\n",
    "                        update_size = update_size[\"..\"]\n",
    "                        update_size[\"size\"] += int(data[0])\n",
    "        elif \"cd\" in cmd:\n",
    "            file = cmd[3:]\n",
    "            current = current[file]\n",
    "    # print(directories)\n",
    "\n",
    "    deletable_size = sum(sizes_under(100000, directories))\n",
    "    print(f\"Pt1: {deletable_size}\")\n",
    "\n",
    "    total = 70000000\n",
    "    needed = 30000000\n",
    "    available = total - directories[\"size\"]\n",
    "    to_free = needed - available\n",
    "    deletable = min(sizes_over(to_free, directories))\n",
    "    print(f\"{available=} {to_free=}\")\n",
    "    print(f\"Pt2: {deletable}\")\n",
    "\n",
    "def sizes_under(limit, structure):\n",
    "    directories = []\n",
    "    if structure[\"size\"] < limit:\n",
    "        directories.append(structure[\"size\"])\n",
    "    for item in structure:\n",
    "        if item == \"..\":\n",
    "            continue\n",
    "        if type(structure[item]).__name__ == \"dict\":\n",
    "            directories += sizes_under(limit, structure[item])\n",
    "    return directories\n",
    "\n",
    "def sizes_over(limit, structure):\n",
    "    directories = []\n",
    "    if structure[\"size\"] >= limit:\n",
    "        directories.append(structure[\"size\"])\n",
    "    for item in structure:\n",
    "        if item == \"..\":\n",
    "            continue\n",
    "        if type(structure[item]).__name__ == \"dict\":\n",
    "            directories += sizes_over(limit, structure[item])\n",
    "    return directories\n",
    "\n",
    "\n",
    "if __name__ == \"__main__\":\n",
    "    main()"
   ]
  },
  {
   "cell_type": "markdown",
   "metadata": {},
   "source": [
    "# Day 8"
   ]
  },
  {
   "cell_type": "code",
   "execution_count": null,
   "metadata": {},
   "outputs": [],
   "source": [
    "with open('input8.txt') as file:\n",
    "    contents = file.read().split('\\n')\n",
    "    \n",
    "    \n",
    "print(contents)"
   ]
  },
  {
   "cell_type": "markdown",
   "metadata": {},
   "source": [
    "# Day 9"
   ]
  },
  {
   "cell_type": "code",
   "execution_count": null,
   "metadata": {},
   "outputs": [],
   "source": [
    "with open('input9.txt') as file:\n",
    "    contents = file.read().split('\\n')\n",
    "    \n",
    "    \n",
    "print(contents)"
   ]
  },
  {
   "cell_type": "markdown",
   "metadata": {},
   "source": [
    "# Day 10"
   ]
  },
  {
   "cell_type": "code",
   "execution_count": null,
   "metadata": {},
   "outputs": [],
   "source": [
    "with open('input10.txt') as file:\n",
    "    contents = file.read().split('\\n')\n",
    "    \n",
    "    \n",
    "print(contents)"
   ]
  },
  {
   "cell_type": "markdown",
   "metadata": {},
   "source": [
    "# Day 11"
   ]
  },
  {
   "cell_type": "code",
   "execution_count": null,
   "metadata": {},
   "outputs": [],
   "source": [
    "with open('input11.txt') as file:\n",
    "    contents = file.read().split('\\n')\n",
    "    \n",
    "    \n",
    "print(contents)"
   ]
  },
  {
   "cell_type": "markdown",
   "metadata": {},
   "source": [
    "# Day 12"
   ]
  },
  {
   "cell_type": "code",
   "execution_count": null,
   "metadata": {},
   "outputs": [],
   "source": [
    "with open('input12.txt') as file:\n",
    "    contents = file.read().split('\\n')\n",
    "    \n",
    "    \n",
    "print(contents)"
   ]
  },
  {
   "cell_type": "markdown",
   "metadata": {},
   "source": [
    "# Day 13"
   ]
  },
  {
   "cell_type": "code",
   "execution_count": null,
   "metadata": {},
   "outputs": [],
   "source": [
    "with open('input13.txt') as file:\n",
    "    contents = file.read().split('\\n')\n",
    "    \n",
    "    \n",
    "print(contents)"
   ]
  },
  {
   "cell_type": "markdown",
   "metadata": {},
   "source": [
    "# Day 14"
   ]
  },
  {
   "cell_type": "code",
   "execution_count": null,
   "metadata": {},
   "outputs": [],
   "source": [
    "with open('input14.txt') as file:\n",
    "    contents = file.read().split('\\n')\n",
    "    \n",
    "    \n",
    "print(contents)"
   ]
  }
 ],
 "metadata": {
  "interpreter": {
   "hash": "88b8f425751f62ec7b8df47ba04b64d448b9bb15c1b711422e4ebe5dc746ac52"
  },
  "kernelspec": {
   "display_name": "Python 3.10.4 ('venv': venv)",
   "language": "python",
   "name": "python3"
  },
  "language_info": {
   "codemirror_mode": {
    "name": "ipython",
    "version": 3
   },
   "file_extension": ".py",
   "mimetype": "text/x-python",
   "name": "python",
   "nbconvert_exporter": "python",
   "pygments_lexer": "ipython3",
   "version": "3.10.4"
  },
  "orig_nbformat": 4
 },
 "nbformat": 4,
 "nbformat_minor": 2
}
